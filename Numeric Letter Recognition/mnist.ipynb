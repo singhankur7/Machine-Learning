{
 "cells": [
  {
   "cell_type": "code",
   "execution_count": 1,
   "metadata": {},
   "outputs": [],
   "source": [
    "import pandas as pd\n",
    "import matplotlib.pyplot as plt\n",
    "import numpy as np\n",
    "import cv2\n",
    "from skimage import feature"
   ]
  },
  {
   "cell_type": "code",
   "execution_count": 2,
   "metadata": {},
   "outputs": [
    {
     "name": "stderr",
     "output_type": "stream",
     "text": [
      "C:\\Users\\New\\Anaconda3\\lib\\site-packages\\skimage\\feature\\_hog.py:150: skimage_deprecation: Default value of `block_norm`==`L1` is deprecated and will be changed to `L2-Hys` in v0.15. To supress this message specify explicitly the normalization method.\n",
      "  skimage_deprecation)\n"
     ]
    }
   ],
   "source": [
    "train=[]\n",
    "target=[]\n",
    "for i in range(0,10):\n",
    "    for j in range(1,4000):\n",
    "        img=plt.imread(\"D:\\\\techstack\\\\Mnist\\\\mnist_png\\\\training\\\\\"+str(i)+\"\\\\s(\"+str(j)+\").png\")\n",
    "        #cv2.HOGDescriptor()\n",
    "        train.append(np.ravel(feature.hog(img)))\n",
    "        target.append(i)"
   ]
  },
  {
   "cell_type": "code",
   "execution_count": 3,
   "metadata": {},
   "outputs": [],
   "source": [
    "from sklearn.svm import SVC\n",
    "model=SVC(kernel='poly',gamma=33)"
   ]
  },
  {
   "cell_type": "code",
   "execution_count": 4,
   "metadata": {},
   "outputs": [
    {
     "data": {
      "text/plain": [
       "SVC(C=1.0, cache_size=200, class_weight=None, coef0=0.0,\n",
       "  decision_function_shape='ovr', degree=3, gamma=33, kernel='poly',\n",
       "  max_iter=-1, probability=False, random_state=None, shrinking=True,\n",
       "  tol=0.001, verbose=False)"
      ]
     },
     "execution_count": 4,
     "metadata": {},
     "output_type": "execute_result"
    }
   ],
   "source": [
    "model.fit(train,target)"
   ]
  },
  {
   "cell_type": "code",
   "execution_count": 5,
   "metadata": {},
   "outputs": [],
   "source": [
    "from sklearn.metrics import accuracy_score"
   ]
  },
  {
   "cell_type": "code",
   "execution_count": 7,
   "metadata": {},
   "outputs": [
    {
     "name": "stderr",
     "output_type": "stream",
     "text": [
      "C:\\Users\\New\\Anaconda3\\lib\\site-packages\\skimage\\feature\\_hog.py:150: skimage_deprecation: Default value of `block_norm`==`L1` is deprecated and will be changed to `L2-Hys` in v0.15. To supress this message specify explicitly the normalization method.\n",
      "  skimage_deprecation)\n"
     ]
    }
   ],
   "source": [
    "test=[]\n",
    "testtar=[]\n",
    "for i in range(0,10):\n",
    "    for j in range(1,700):\n",
    "        img=plt.imread(\"D:\\\\techstack\\\\Mnist\\\\mnist_png\\\\testing\\\\\"+str(i)+\"\\\\s(\"+str(j)+\").png\")\n",
    "        #cv2.HOGDescriptor()\n",
    "        test.append(np.ravel(feature.hog(img)))\n",
    "        testtar.append(i)"
   ]
  },
  {
   "cell_type": "code",
   "execution_count": 8,
   "metadata": {},
   "outputs": [],
   "source": [
    "red=model.predict(test)"
   ]
  },
  {
   "cell_type": "code",
   "execution_count": 9,
   "metadata": {},
   "outputs": [
    {
     "data": {
      "text/plain": [
       "0.9752503576537911"
      ]
     },
     "execution_count": 9,
     "metadata": {},
     "output_type": "execute_result"
    }
   ],
   "source": [
    "accuracy_score(testtar,red)"
   ]
  },
  {
   "cell_type": "markdown",
   "metadata": {},
   "source": [
    "rbf(0.1)=74\n",
    "linear=91\n",
    "rbf(0.2)=90.8\n",
    "rbf(0.3)=91.5\n",
    "rbf(0.4)=92\n",
    "rbf(0.5)=92.3\n",
    "rbf(0.6)=92.7\n",
    "rbf(1)=93.6\n",
    "rbf(2)=94.7\n",
    "rbf(3)=95.3\n",
    "rbf(4)=95.6\n",
    "rbf(5)=95.9\n",
    "rbf(6)=96.2\n",
    "rbf(8)=96.4\n",
    "rbf(10)=96.5\n",
    "rbf(12)=96.7\n",
    "rbf(14)=96.9\n",
    "rbf(19)=97\n",
    "rbf(25)=97.1\n",
    "rbf(50)=97.3\n",
    "rbf(100)=96.9\n",
    "rbf(75)=97\n",
    "rbf(60)=97.2\n",
    "rbf(55)=97.33\n",
    "rbf(56)=97.32\n",
    "                rbf(55.5)=97.339\n",
    "poly(0.1)=42\n",
    "polt(1)=47\n",
    "poly(10)=96\n",
    "poly(20)=97.2\n",
    "poly(30)=97.5\n",
    "poly(50)=97.2\n",
    "poly(40)=97.2\n",
    "poly(35)=97.4\n",
    "                poly(33)=97.52"
   ]
  },
  {
   "cell_type": "code",
   "execution_count": null,
   "metadata": {},
   "outputs": [],
   "source": []
  }
 ],
 "metadata": {
  "kernelspec": {
   "display_name": "Python 3",
   "language": "python",
   "name": "python3"
  },
  "language_info": {
   "codemirror_mode": {
    "name": "ipython",
    "version": 3
   },
   "file_extension": ".py",
   "mimetype": "text/x-python",
   "name": "python",
   "nbconvert_exporter": "python",
   "pygments_lexer": "ipython3",
   "version": "3.7.1"
  }
 },
 "nbformat": 4,
 "nbformat_minor": 2
}
