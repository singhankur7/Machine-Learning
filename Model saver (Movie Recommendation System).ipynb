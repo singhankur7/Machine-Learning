{
 "cells": [
  {
   "cell_type": "code",
   "execution_count": 46,
   "metadata": {},
   "outputs": [],
   "source": [
    "import pandas as pd\n",
    "import numpy as np\n",
    "data1=pd.read_csv(\"C:\\\\Users\\\\KARAN\\\\Desktop\\\\machine learning\\\\a movie rec. system\\\\movies data.csv\",usecols=['MovieID','Title','Genres'])\n",
    "data2=pd.read_csv(\"C:\\\\Users\\\\KARAN\\\\Desktop\\\\machine learning\\\\a movie rec. system\\\\ratings data.csv\",usecols=['UserID','MovieID','Rating','Timestamp'])\n",
    "data3=data1.merge(data2, on= 'MovieID', left_on=None, right_on=None, left_index=False)\n",
    "data3['Genres']=data.Genres.str.replace('|',',')\n",
    "data3=data3.drop_duplicates()\n",
    "data3.drop(['Timestamp'],axis=1,inplace=True)\n",
    "data3=data3.groupby('Rating').get_group(5)\n",
    "data3.drop('UserID',axis=1,inplace=True)\n",
    "data3.drop_duplicates(inplace=True)\n",
    "Target=data3.Title\n",
    "data3=data3.drop('Title',axis=1)\n",
    "train=data3.Genres\n",
    "train=pd.get_dummies(train)\n",
    "from sklearn.neighbors import KNeighborsClassifier\n",
    "data3['index']=[i for i in range(0,3232)]\n",
    "train['index']=[i for i in range(0,3232)]\n",
    "model=KNeighborsClassifier(n_neighbors=7)\n",
    "from sklearn.externals import joblib\n",
    "joblib.dump(model.fit(train.iloc[:,0:-1],Target),\"C:\\\\Users\\\\KARAN\\\\Desktop\\\\machine learning\\\\a movie rec. system\\\\model\")\n",
    "data3.to_csv(\"C:\\\\Users\\\\KARAN\\\\Desktop\\\\machine learning\\\\a movie rec. system\\\\data3.csv\")\n",
    "train.to_csv(\"C:\\\\Users\\\\KARAN\\\\Desktop\\\\machine learning\\\\a movie rec. system\\\\train.csv\")"
   ]
  },
  {
   "cell_type": "code",
   "execution_count": null,
   "metadata": {},
   "outputs": [],
   "source": []
  },
  {
   "cell_type": "code",
   "execution_count": null,
   "metadata": {},
   "outputs": [],
   "source": []
  }
 ],
 "metadata": {
  "kernelspec": {
   "display_name": "Python 3",
   "language": "python",
   "name": "python3"
  },
  "language_info": {
   "codemirror_mode": {
    "name": "ipython",
    "version": 3
   },
   "file_extension": ".py",
   "mimetype": "text/x-python",
   "name": "python",
   "nbconvert_exporter": "python",
   "pygments_lexer": "ipython3",
   "version": "3.6.5"
  }
 },
 "nbformat": 4,
 "nbformat_minor": 2
}
